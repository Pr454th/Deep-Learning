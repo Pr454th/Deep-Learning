{
  "cells": [
    {
      "cell_type": "markdown",
      "metadata": {
        "id": "view-in-github",
        "colab_type": "text"
      },
      "source": [
        "<a href=\"https://colab.research.google.com/github/Pr454th/Deep-Learning/blob/main/Twitter_Sentiment_Analysis_using_LSTM.ipynb\" target=\"_parent\"><img src=\"https://colab.research.google.com/assets/colab-badge.svg\" alt=\"Open In Colab\"/></a>"
      ]
    },
    {
      "metadata": {
        "id": "_YLtkBTR3dUo"
      },
      "cell_type": "markdown",
      "source": [
        "#SENTIMENT ANALYSIS USING LSTM\n",
        "3 Jan 2023"
      ]
    },
    {
      "metadata": {
        "papermill": {
          "duration": 0.065466,
          "end_time": "2020-11-30T07:38:51.578836",
          "exception": false,
          "start_time": "2020-11-30T07:38:51.513370",
          "status": "completed"
        },
        "tags": [],
        "id": "K4k7oXuI3dUv"
      },
      "cell_type": "markdown",
      "source": [
        "<div class=\"alert alert-block alert-danger\">  \n",
        "<h2>Importing Python Libraries</h2>\n",
        "        \n",
        "</div>"
      ]
    },
    {
      "metadata": {
        "colab": {
          "base_uri": "https://localhost:8080/",
          "height": 0
        },
        "id": "-E4TvIVLMa73",
        "scrolled": true,
        "trusted": false,
        "outputId": "0bb470b7-dc6a-4d73-8bdd-fe66c22f7738"
      },
      "cell_type": "code",
      "source": [
        "import numpy as np \n",
        "import pandas as pd \n",
        "import seaborn as sns \n",
        "import matplotlib.pyplot as plt\n",
        "plt.style.use('ggplot')\n",
        "import nltk\n",
        "nltk.download('stopwords')\n",
        "nltk.download('wordnet')\n",
        "nltk.download('omw-1.4')\n",
        "from sklearn.metrics import roc_curve, auc\n",
        "from sklearn.metrics import classification_report, confusion_matrix\n",
        "import nltk\n",
        "from nltk.corpus import stopwords\n",
        "from nltk.stem import PorterStemmer \n",
        "from sklearn.model_selection import train_test_split\n",
        "from mlxtend.plotting import plot_confusion_matrix\n",
        "import matplotlib.cm as cm\n",
        "from matplotlib import rcParams\n",
        "from collections import Counter\n",
        "from nltk.tokenize import RegexpTokenizer\n",
        "import re\n",
        "import string\n",
        "from tensorflow.keras.layers import LSTM, Activation, Dense, Dropout, Input, Embedding\n",
        "from tensorflow.keras.models import Model\n",
        "from tensorflow.keras.optimizers import RMSprop\n",
        "from tensorflow.keras.preprocessing.text import Tokenizer\n",
        "from tensorflow.keras.preprocessing import sequence\n",
        "%matplotlib inline\n",
        "\n",
        "import warnings\n",
        "warnings.filterwarnings(\"ignore\")"
      ],
      "execution_count": 106,
      "outputs": [
        {
          "output_type": "stream",
          "name": "stderr",
          "text": [
            "[nltk_data] Downloading package stopwords to /root/nltk_data...\n",
            "[nltk_data]   Package stopwords is already up-to-date!\n",
            "[nltk_data] Downloading package wordnet to /root/nltk_data...\n",
            "[nltk_data]   Package wordnet is already up-to-date!\n",
            "[nltk_data] Downloading package omw-1.4 to /root/nltk_data...\n"
          ]
        }
      ]
    },
    {
      "metadata": {
        "papermill": {
          "duration": 0.065466,
          "end_time": "2020-11-30T07:38:51.578836",
          "exception": false,
          "start_time": "2020-11-30T07:38:51.513370",
          "status": "completed"
        },
        "tags": [],
        "id": "48DovKh53dU-"
      },
      "cell_type": "markdown",
      "source": [
        "<div class=\"alert alert-block alert-danger\">  \n",
        "<h2><strong>Loading the data</strong></h2>\n",
        "        \n",
        "</div>"
      ]
    },
    {
      "metadata": {
        "trusted": false,
        "id": "83zix-rn3dVB"
      },
      "cell_type": "code",
      "source": [
        "data = pd.read_csv(\"/content/drive/MyDrive/Colab Notebooks/LSTM/training.1600000.processed.noemoticon.csv\", encoding = \"ISO-8859-1\", engine=\"python\")\n",
        "data.columns = [\"label\", \"time\", \"date\", \"query\", \"username\", \"text\"]"
      ],
      "execution_count": 107,
      "outputs": []
    },
    {
      "metadata": {
        "papermill": {
          "duration": 0.065466,
          "end_time": "2020-11-30T07:38:51.578836",
          "exception": false,
          "start_time": "2020-11-30T07:38:51.513370",
          "status": "completed"
        },
        "tags": [],
        "id": "LpBfpfSA3dVC"
      },
      "cell_type": "markdown",
      "source": [
        "<div class=\"alert alert-block alert-danger\">  \n",
        "<h2>Exploratory data analysis </h2>\n",
        "\n",
        "\n",
        "        \n",
        "</div>"
      ]
    },
    {
      "metadata": {
        "id": "6BZznTWS3dVF"
      },
      "cell_type": "markdown",
      "source": [
        "#### Five top records of data"
      ]
    },
    {
      "metadata": {
        "trusted": false,
        "colab": {
          "base_uri": "https://localhost:8080/",
          "height": 206
        },
        "id": "ZmutEv6j3dVG",
        "outputId": "4e79268c-b70c-463c-c868-94236495e623"
      },
      "cell_type": "code",
      "source": [
        "data.head()"
      ],
      "execution_count": 108,
      "outputs": [
        {
          "output_type": "execute_result",
          "data": {
            "text/plain": [
              "   label        time                          date     query       username  \\\n",
              "0      0  1467810672  Mon Apr 06 22:19:49 PDT 2009  NO_QUERY  scotthamilton   \n",
              "1      0  1467810917  Mon Apr 06 22:19:53 PDT 2009  NO_QUERY       mattycus   \n",
              "2      0  1467811184  Mon Apr 06 22:19:57 PDT 2009  NO_QUERY        ElleCTF   \n",
              "3      0  1467811193  Mon Apr 06 22:19:57 PDT 2009  NO_QUERY         Karoli   \n",
              "4      0  1467811372  Mon Apr 06 22:20:00 PDT 2009  NO_QUERY       joy_wolf   \n",
              "\n",
              "                                                text  \n",
              "0  is upset that he can't update his Facebook by ...  \n",
              "1  @Kenichan I dived many times for the ball. Man...  \n",
              "2    my whole body feels itchy and like its on fire   \n",
              "3  @nationwideclass no, it's not behaving at all....  \n",
              "4                      @Kwesidei not the whole crew   "
            ],
            "text/html": [
              "\n",
              "  <div id=\"df-6cc0edb6-900e-4e8d-a5e9-d81e14579e66\">\n",
              "    <div class=\"colab-df-container\">\n",
              "      <div>\n",
              "<style scoped>\n",
              "    .dataframe tbody tr th:only-of-type {\n",
              "        vertical-align: middle;\n",
              "    }\n",
              "\n",
              "    .dataframe tbody tr th {\n",
              "        vertical-align: top;\n",
              "    }\n",
              "\n",
              "    .dataframe thead th {\n",
              "        text-align: right;\n",
              "    }\n",
              "</style>\n",
              "<table border=\"1\" class=\"dataframe\">\n",
              "  <thead>\n",
              "    <tr style=\"text-align: right;\">\n",
              "      <th></th>\n",
              "      <th>label</th>\n",
              "      <th>time</th>\n",
              "      <th>date</th>\n",
              "      <th>query</th>\n",
              "      <th>username</th>\n",
              "      <th>text</th>\n",
              "    </tr>\n",
              "  </thead>\n",
              "  <tbody>\n",
              "    <tr>\n",
              "      <th>0</th>\n",
              "      <td>0</td>\n",
              "      <td>1467810672</td>\n",
              "      <td>Mon Apr 06 22:19:49 PDT 2009</td>\n",
              "      <td>NO_QUERY</td>\n",
              "      <td>scotthamilton</td>\n",
              "      <td>is upset that he can't update his Facebook by ...</td>\n",
              "    </tr>\n",
              "    <tr>\n",
              "      <th>1</th>\n",
              "      <td>0</td>\n",
              "      <td>1467810917</td>\n",
              "      <td>Mon Apr 06 22:19:53 PDT 2009</td>\n",
              "      <td>NO_QUERY</td>\n",
              "      <td>mattycus</td>\n",
              "      <td>@Kenichan I dived many times for the ball. Man...</td>\n",
              "    </tr>\n",
              "    <tr>\n",
              "      <th>2</th>\n",
              "      <td>0</td>\n",
              "      <td>1467811184</td>\n",
              "      <td>Mon Apr 06 22:19:57 PDT 2009</td>\n",
              "      <td>NO_QUERY</td>\n",
              "      <td>ElleCTF</td>\n",
              "      <td>my whole body feels itchy and like its on fire</td>\n",
              "    </tr>\n",
              "    <tr>\n",
              "      <th>3</th>\n",
              "      <td>0</td>\n",
              "      <td>1467811193</td>\n",
              "      <td>Mon Apr 06 22:19:57 PDT 2009</td>\n",
              "      <td>NO_QUERY</td>\n",
              "      <td>Karoli</td>\n",
              "      <td>@nationwideclass no, it's not behaving at all....</td>\n",
              "    </tr>\n",
              "    <tr>\n",
              "      <th>4</th>\n",
              "      <td>0</td>\n",
              "      <td>1467811372</td>\n",
              "      <td>Mon Apr 06 22:20:00 PDT 2009</td>\n",
              "      <td>NO_QUERY</td>\n",
              "      <td>joy_wolf</td>\n",
              "      <td>@Kwesidei not the whole crew</td>\n",
              "    </tr>\n",
              "  </tbody>\n",
              "</table>\n",
              "</div>\n",
              "      <button class=\"colab-df-convert\" onclick=\"convertToInteractive('df-6cc0edb6-900e-4e8d-a5e9-d81e14579e66')\"\n",
              "              title=\"Convert this dataframe to an interactive table.\"\n",
              "              style=\"display:none;\">\n",
              "        \n",
              "  <svg xmlns=\"http://www.w3.org/2000/svg\" height=\"24px\"viewBox=\"0 0 24 24\"\n",
              "       width=\"24px\">\n",
              "    <path d=\"M0 0h24v24H0V0z\" fill=\"none\"/>\n",
              "    <path d=\"M18.56 5.44l.94 2.06.94-2.06 2.06-.94-2.06-.94-.94-2.06-.94 2.06-2.06.94zm-11 1L8.5 8.5l.94-2.06 2.06-.94-2.06-.94L8.5 2.5l-.94 2.06-2.06.94zm10 10l.94 2.06.94-2.06 2.06-.94-2.06-.94-.94-2.06-.94 2.06-2.06.94z\"/><path d=\"M17.41 7.96l-1.37-1.37c-.4-.4-.92-.59-1.43-.59-.52 0-1.04.2-1.43.59L10.3 9.45l-7.72 7.72c-.78.78-.78 2.05 0 2.83L4 21.41c.39.39.9.59 1.41.59.51 0 1.02-.2 1.41-.59l7.78-7.78 2.81-2.81c.8-.78.8-2.07 0-2.86zM5.41 20L4 18.59l7.72-7.72 1.47 1.35L5.41 20z\"/>\n",
              "  </svg>\n",
              "      </button>\n",
              "      \n",
              "  <style>\n",
              "    .colab-df-container {\n",
              "      display:flex;\n",
              "      flex-wrap:wrap;\n",
              "      gap: 12px;\n",
              "    }\n",
              "\n",
              "    .colab-df-convert {\n",
              "      background-color: #E8F0FE;\n",
              "      border: none;\n",
              "      border-radius: 50%;\n",
              "      cursor: pointer;\n",
              "      display: none;\n",
              "      fill: #1967D2;\n",
              "      height: 32px;\n",
              "      padding: 0 0 0 0;\n",
              "      width: 32px;\n",
              "    }\n",
              "\n",
              "    .colab-df-convert:hover {\n",
              "      background-color: #E2EBFA;\n",
              "      box-shadow: 0px 1px 2px rgba(60, 64, 67, 0.3), 0px 1px 3px 1px rgba(60, 64, 67, 0.15);\n",
              "      fill: #174EA6;\n",
              "    }\n",
              "\n",
              "    [theme=dark] .colab-df-convert {\n",
              "      background-color: #3B4455;\n",
              "      fill: #D2E3FC;\n",
              "    }\n",
              "\n",
              "    [theme=dark] .colab-df-convert:hover {\n",
              "      background-color: #434B5C;\n",
              "      box-shadow: 0px 1px 3px 1px rgba(0, 0, 0, 0.15);\n",
              "      filter: drop-shadow(0px 1px 2px rgba(0, 0, 0, 0.3));\n",
              "      fill: #FFFFFF;\n",
              "    }\n",
              "  </style>\n",
              "\n",
              "      <script>\n",
              "        const buttonEl =\n",
              "          document.querySelector('#df-6cc0edb6-900e-4e8d-a5e9-d81e14579e66 button.colab-df-convert');\n",
              "        buttonEl.style.display =\n",
              "          google.colab.kernel.accessAllowed ? 'block' : 'none';\n",
              "\n",
              "        async function convertToInteractive(key) {\n",
              "          const element = document.querySelector('#df-6cc0edb6-900e-4e8d-a5e9-d81e14579e66');\n",
              "          const dataTable =\n",
              "            await google.colab.kernel.invokeFunction('convertToInteractive',\n",
              "                                                     [key], {});\n",
              "          if (!dataTable) return;\n",
              "\n",
              "          const docLinkHtml = 'Like what you see? Visit the ' +\n",
              "            '<a target=\"_blank\" href=https://colab.research.google.com/notebooks/data_table.ipynb>data table notebook</a>'\n",
              "            + ' to learn more about interactive tables.';\n",
              "          element.innerHTML = '';\n",
              "          dataTable['output_type'] = 'display_data';\n",
              "          await google.colab.output.renderOutput(dataTable, element);\n",
              "          const docLink = document.createElement('div');\n",
              "          docLink.innerHTML = docLinkHtml;\n",
              "          element.appendChild(docLink);\n",
              "        }\n",
              "      </script>\n",
              "    </div>\n",
              "  </div>\n",
              "  "
            ]
          },
          "metadata": {},
          "execution_count": 108
        }
      ]
    },
    {
      "metadata": {
        "id": "Hli06lXr3dVH"
      },
      "cell_type": "markdown",
      "source": [
        "#### Five last records of data"
      ]
    },
    {
      "metadata": {
        "trusted": false,
        "colab": {
          "base_uri": "https://localhost:8080/",
          "height": 206
        },
        "id": "wEuQL5E33dVJ",
        "outputId": "5bc28d4f-e80b-4aff-a400-df693b072523"
      },
      "cell_type": "code",
      "source": [
        "data.tail()"
      ],
      "execution_count": 109,
      "outputs": [
        {
          "output_type": "execute_result",
          "data": {
            "text/plain": [
              "         label        time                          date     query  \\\n",
              "1599994      4  2193601966  Tue Jun 16 08:40:49 PDT 2009  NO_QUERY   \n",
              "1599995      4  2193601969  Tue Jun 16 08:40:49 PDT 2009  NO_QUERY   \n",
              "1599996      4  2193601991  Tue Jun 16 08:40:49 PDT 2009  NO_QUERY   \n",
              "1599997      4  2193602064  Tue Jun 16 08:40:49 PDT 2009  NO_QUERY   \n",
              "1599998      4  2193602129  Tue Jun 16 08:40:50 PDT 2009  NO_QUERY   \n",
              "\n",
              "                username                                               text  \n",
              "1599994  AmandaMarie1028  Just woke up. Having no school is the best fee...  \n",
              "1599995      TheWDBoards  TheWDB.com - Very cool to hear old Walt interv...  \n",
              "1599996           bpbabe  Are you ready for your MoJo Makeover? Ask me f...  \n",
              "1599997     tinydiamondz  Happy 38th Birthday to my boo of alll time!!! ...  \n",
              "1599998   RyanTrevMorris  happy #charitytuesday @theNSPCC @SparksCharity...  "
            ],
            "text/html": [
              "\n",
              "  <div id=\"df-15b84186-bc40-4478-b16b-e30f8d6b00ba\">\n",
              "    <div class=\"colab-df-container\">\n",
              "      <div>\n",
              "<style scoped>\n",
              "    .dataframe tbody tr th:only-of-type {\n",
              "        vertical-align: middle;\n",
              "    }\n",
              "\n",
              "    .dataframe tbody tr th {\n",
              "        vertical-align: top;\n",
              "    }\n",
              "\n",
              "    .dataframe thead th {\n",
              "        text-align: right;\n",
              "    }\n",
              "</style>\n",
              "<table border=\"1\" class=\"dataframe\">\n",
              "  <thead>\n",
              "    <tr style=\"text-align: right;\">\n",
              "      <th></th>\n",
              "      <th>label</th>\n",
              "      <th>time</th>\n",
              "      <th>date</th>\n",
              "      <th>query</th>\n",
              "      <th>username</th>\n",
              "      <th>text</th>\n",
              "    </tr>\n",
              "  </thead>\n",
              "  <tbody>\n",
              "    <tr>\n",
              "      <th>1599994</th>\n",
              "      <td>4</td>\n",
              "      <td>2193601966</td>\n",
              "      <td>Tue Jun 16 08:40:49 PDT 2009</td>\n",
              "      <td>NO_QUERY</td>\n",
              "      <td>AmandaMarie1028</td>\n",
              "      <td>Just woke up. Having no school is the best fee...</td>\n",
              "    </tr>\n",
              "    <tr>\n",
              "      <th>1599995</th>\n",
              "      <td>4</td>\n",
              "      <td>2193601969</td>\n",
              "      <td>Tue Jun 16 08:40:49 PDT 2009</td>\n",
              "      <td>NO_QUERY</td>\n",
              "      <td>TheWDBoards</td>\n",
              "      <td>TheWDB.com - Very cool to hear old Walt interv...</td>\n",
              "    </tr>\n",
              "    <tr>\n",
              "      <th>1599996</th>\n",
              "      <td>4</td>\n",
              "      <td>2193601991</td>\n",
              "      <td>Tue Jun 16 08:40:49 PDT 2009</td>\n",
              "      <td>NO_QUERY</td>\n",
              "      <td>bpbabe</td>\n",
              "      <td>Are you ready for your MoJo Makeover? Ask me f...</td>\n",
              "    </tr>\n",
              "    <tr>\n",
              "      <th>1599997</th>\n",
              "      <td>4</td>\n",
              "      <td>2193602064</td>\n",
              "      <td>Tue Jun 16 08:40:49 PDT 2009</td>\n",
              "      <td>NO_QUERY</td>\n",
              "      <td>tinydiamondz</td>\n",
              "      <td>Happy 38th Birthday to my boo of alll time!!! ...</td>\n",
              "    </tr>\n",
              "    <tr>\n",
              "      <th>1599998</th>\n",
              "      <td>4</td>\n",
              "      <td>2193602129</td>\n",
              "      <td>Tue Jun 16 08:40:50 PDT 2009</td>\n",
              "      <td>NO_QUERY</td>\n",
              "      <td>RyanTrevMorris</td>\n",
              "      <td>happy #charitytuesday @theNSPCC @SparksCharity...</td>\n",
              "    </tr>\n",
              "  </tbody>\n",
              "</table>\n",
              "</div>\n",
              "      <button class=\"colab-df-convert\" onclick=\"convertToInteractive('df-15b84186-bc40-4478-b16b-e30f8d6b00ba')\"\n",
              "              title=\"Convert this dataframe to an interactive table.\"\n",
              "              style=\"display:none;\">\n",
              "        \n",
              "  <svg xmlns=\"http://www.w3.org/2000/svg\" height=\"24px\"viewBox=\"0 0 24 24\"\n",
              "       width=\"24px\">\n",
              "    <path d=\"M0 0h24v24H0V0z\" fill=\"none\"/>\n",
              "    <path d=\"M18.56 5.44l.94 2.06.94-2.06 2.06-.94-2.06-.94-.94-2.06-.94 2.06-2.06.94zm-11 1L8.5 8.5l.94-2.06 2.06-.94-2.06-.94L8.5 2.5l-.94 2.06-2.06.94zm10 10l.94 2.06.94-2.06 2.06-.94-2.06-.94-.94-2.06-.94 2.06-2.06.94z\"/><path d=\"M17.41 7.96l-1.37-1.37c-.4-.4-.92-.59-1.43-.59-.52 0-1.04.2-1.43.59L10.3 9.45l-7.72 7.72c-.78.78-.78 2.05 0 2.83L4 21.41c.39.39.9.59 1.41.59.51 0 1.02-.2 1.41-.59l7.78-7.78 2.81-2.81c.8-.78.8-2.07 0-2.86zM5.41 20L4 18.59l7.72-7.72 1.47 1.35L5.41 20z\"/>\n",
              "  </svg>\n",
              "      </button>\n",
              "      \n",
              "  <style>\n",
              "    .colab-df-container {\n",
              "      display:flex;\n",
              "      flex-wrap:wrap;\n",
              "      gap: 12px;\n",
              "    }\n",
              "\n",
              "    .colab-df-convert {\n",
              "      background-color: #E8F0FE;\n",
              "      border: none;\n",
              "      border-radius: 50%;\n",
              "      cursor: pointer;\n",
              "      display: none;\n",
              "      fill: #1967D2;\n",
              "      height: 32px;\n",
              "      padding: 0 0 0 0;\n",
              "      width: 32px;\n",
              "    }\n",
              "\n",
              "    .colab-df-convert:hover {\n",
              "      background-color: #E2EBFA;\n",
              "      box-shadow: 0px 1px 2px rgba(60, 64, 67, 0.3), 0px 1px 3px 1px rgba(60, 64, 67, 0.15);\n",
              "      fill: #174EA6;\n",
              "    }\n",
              "\n",
              "    [theme=dark] .colab-df-convert {\n",
              "      background-color: #3B4455;\n",
              "      fill: #D2E3FC;\n",
              "    }\n",
              "\n",
              "    [theme=dark] .colab-df-convert:hover {\n",
              "      background-color: #434B5C;\n",
              "      box-shadow: 0px 1px 3px 1px rgba(0, 0, 0, 0.15);\n",
              "      filter: drop-shadow(0px 1px 2px rgba(0, 0, 0, 0.3));\n",
              "      fill: #FFFFFF;\n",
              "    }\n",
              "  </style>\n",
              "\n",
              "      <script>\n",
              "        const buttonEl =\n",
              "          document.querySelector('#df-15b84186-bc40-4478-b16b-e30f8d6b00ba button.colab-df-convert');\n",
              "        buttonEl.style.display =\n",
              "          google.colab.kernel.accessAllowed ? 'block' : 'none';\n",
              "\n",
              "        async function convertToInteractive(key) {\n",
              "          const element = document.querySelector('#df-15b84186-bc40-4478-b16b-e30f8d6b00ba');\n",
              "          const dataTable =\n",
              "            await google.colab.kernel.invokeFunction('convertToInteractive',\n",
              "                                                     [key], {});\n",
              "          if (!dataTable) return;\n",
              "\n",
              "          const docLinkHtml = 'Like what you see? Visit the ' +\n",
              "            '<a target=\"_blank\" href=https://colab.research.google.com/notebooks/data_table.ipynb>data table notebook</a>'\n",
              "            + ' to learn more about interactive tables.';\n",
              "          element.innerHTML = '';\n",
              "          dataTable['output_type'] = 'display_data';\n",
              "          await google.colab.output.renderOutput(dataTable, element);\n",
              "          const docLink = document.createElement('div');\n",
              "          docLink.innerHTML = docLinkHtml;\n",
              "          element.appendChild(docLink);\n",
              "        }\n",
              "      </script>\n",
              "    </div>\n",
              "  </div>\n",
              "  "
            ]
          },
          "metadata": {},
          "execution_count": 109
        }
      ]
    },
    {
      "metadata": {
        "id": "A-ohmquf3dVS"
      },
      "cell_type": "markdown",
      "source": [
        "#### Coloumns/features in data"
      ]
    },
    {
      "metadata": {
        "trusted": false,
        "colab": {
          "base_uri": "https://localhost:8080/",
          "height": 0
        },
        "id": "vj9eFqOm3dVT",
        "outputId": "8a74f2e1-7dfa-4b83-8e90-c7256a9d2d7c"
      },
      "cell_type": "code",
      "source": [
        "data.columns"
      ],
      "execution_count": 110,
      "outputs": [
        {
          "output_type": "execute_result",
          "data": {
            "text/plain": [
              "Index(['label', 'time', 'date', 'query', 'username', 'text'], dtype='object')"
            ]
          },
          "metadata": {},
          "execution_count": 110
        }
      ]
    },
    {
      "metadata": {
        "id": "1lx5vP543dVV"
      },
      "cell_type": "markdown",
      "source": [
        "#### Length of data"
      ]
    },
    {
      "metadata": {
        "trusted": false,
        "colab": {
          "base_uri": "https://localhost:8080/",
          "height": 0
        },
        "id": "gaGMFkry3dVW",
        "outputId": "9272e71f-75b5-4271-c6c0-33e56c86d1db"
      },
      "cell_type": "code",
      "source": [
        "print('lenght of data is', len(data))"
      ],
      "execution_count": 111,
      "outputs": [
        {
          "output_type": "stream",
          "name": "stdout",
          "text": [
            "lenght of data is 1599999\n"
          ]
        }
      ]
    },
    {
      "metadata": {
        "id": "98787Ed83dVY"
      },
      "cell_type": "markdown",
      "source": [
        "#### Shape of data"
      ]
    },
    {
      "metadata": {
        "trusted": false,
        "colab": {
          "base_uri": "https://localhost:8080/",
          "height": 0
        },
        "id": "J4PATih83dVY",
        "outputId": "7ce1e31c-8199-4c01-b920-e1e0dad6f002"
      },
      "cell_type": "code",
      "source": [
        "data.shape"
      ],
      "execution_count": 112,
      "outputs": [
        {
          "output_type": "execute_result",
          "data": {
            "text/plain": [
              "(1599999, 6)"
            ]
          },
          "metadata": {},
          "execution_count": 112
        }
      ]
    },
    {
      "metadata": {
        "id": "jvwnko6V3dVZ"
      },
      "cell_type": "markdown",
      "source": [
        "#### Data information"
      ]
    },
    {
      "metadata": {
        "scrolled": false,
        "trusted": false,
        "colab": {
          "base_uri": "https://localhost:8080/",
          "height": 0
        },
        "id": "bmhwZWmt3dVa",
        "outputId": "4a1139f4-4ba1-431b-f431-8d80b2c3118b"
      },
      "cell_type": "code",
      "source": [
        "data.info()"
      ],
      "execution_count": 113,
      "outputs": [
        {
          "output_type": "stream",
          "name": "stdout",
          "text": [
            "<class 'pandas.core.frame.DataFrame'>\n",
            "RangeIndex: 1599999 entries, 0 to 1599998\n",
            "Data columns (total 6 columns):\n",
            " #   Column    Non-Null Count    Dtype \n",
            "---  ------    --------------    ----- \n",
            " 0   label     1599999 non-null  int64 \n",
            " 1   time      1599999 non-null  int64 \n",
            " 2   date      1599999 non-null  object\n",
            " 3   query     1599999 non-null  object\n",
            " 4   username  1599999 non-null  object\n",
            " 5   text      1599999 non-null  object\n",
            "dtypes: int64(2), object(4)\n",
            "memory usage: 73.2+ MB\n"
          ]
        }
      ]
    },
    {
      "metadata": {
        "id": "pI2kCLzO3dVa"
      },
      "cell_type": "markdown",
      "source": [
        "#### Data types of all coloumns"
      ]
    },
    {
      "metadata": {
        "trusted": false,
        "colab": {
          "base_uri": "https://localhost:8080/",
          "height": 0
        },
        "id": "l1nqdcqe3dVb",
        "outputId": "39aeff9a-a7e4-4b00-ca3d-fdc4e15d6832"
      },
      "cell_type": "code",
      "source": [
        "data.dtypes"
      ],
      "execution_count": 114,
      "outputs": [
        {
          "output_type": "execute_result",
          "data": {
            "text/plain": [
              "label        int64\n",
              "time         int64\n",
              "date        object\n",
              "query       object\n",
              "username    object\n",
              "text        object\n",
              "dtype: object"
            ]
          },
          "metadata": {},
          "execution_count": 114
        }
      ]
    },
    {
      "metadata": {
        "id": "WXum-nPc3dVc"
      },
      "cell_type": "markdown",
      "source": [
        "#### Checking Null values"
      ]
    },
    {
      "metadata": {
        "scrolled": true,
        "trusted": false,
        "colab": {
          "base_uri": "https://localhost:8080/",
          "height": 0
        },
        "id": "OpzScdve3dVc",
        "outputId": "73f12ed7-b9a8-49da-9133-d6300e1dccc3"
      },
      "cell_type": "code",
      "source": [
        "np.sum(data.isnull().any(axis=1))"
      ],
      "execution_count": 115,
      "outputs": [
        {
          "output_type": "execute_result",
          "data": {
            "text/plain": [
              "0"
            ]
          },
          "metadata": {},
          "execution_count": 115
        }
      ]
    },
    {
      "metadata": {
        "id": "tdokfnNR3dVc"
      },
      "cell_type": "markdown",
      "source": [
        "#### Rows and columns in the dataset"
      ]
    },
    {
      "metadata": {
        "trusted": false,
        "colab": {
          "base_uri": "https://localhost:8080/",
          "height": 0
        },
        "id": "Jv9ZFdJY3dVd",
        "outputId": "4baf2606-283e-43e9-c4a5-ae40ce65aac2"
      },
      "cell_type": "code",
      "source": [
        "print('Count of columns in the data is:  ', len(data.columns))"
      ],
      "execution_count": 116,
      "outputs": [
        {
          "output_type": "stream",
          "name": "stdout",
          "text": [
            "Count of columns in the data is:   6\n"
          ]
        }
      ]
    },
    {
      "metadata": {
        "trusted": false,
        "colab": {
          "base_uri": "https://localhost:8080/",
          "height": 0
        },
        "id": "P7Ox1qVG3dVd",
        "outputId": "64052590-75f6-472e-bef9-ab47185aa692"
      },
      "cell_type": "code",
      "source": [
        "print('Count of rows in the data is:  ', len(data))"
      ],
      "execution_count": 117,
      "outputs": [
        {
          "output_type": "stream",
          "name": "stdout",
          "text": [
            "Count of rows in the data is:   1599999\n"
          ]
        }
      ]
    },
    {
      "metadata": {
        "id": "269kKc6c3dVe"
      },
      "cell_type": "markdown",
      "source": [
        "#### Selecting the text and label coloumn"
      ]
    },
    {
      "metadata": {
        "trusted": false,
        "id": "ZeOPM2pf3dVe"
      },
      "cell_type": "code",
      "source": [
        "data=data[['text','label']]"
      ],
      "execution_count": 118,
      "outputs": []
    },
    {
      "metadata": {
        "id": "i5279V1m3dVf"
      },
      "cell_type": "markdown",
      "source": [
        "#### Assigning 1 to Positive sentment 4"
      ]
    },
    {
      "metadata": {
        "trusted": false,
        "id": "LZg2m_wy3dVf"
      },
      "cell_type": "code",
      "source": [
        "data['label'][data['label']==4]=1"
      ],
      "execution_count": 119,
      "outputs": []
    },
    {
      "metadata": {
        "id": "VjHtenbK3dVf"
      },
      "cell_type": "markdown",
      "source": [
        "#### Separating positive and negative tweets"
      ]
    },
    {
      "metadata": {
        "trusted": false,
        "id": "XN0THg5G3dVg"
      },
      "cell_type": "code",
      "source": [
        "data_pos = data[data['label'] == 1]\n",
        "data_neg = data[data['label'] == 0]"
      ],
      "execution_count": 120,
      "outputs": []
    },
    {
      "metadata": {
        "id": "0uXgZXKG3dVg"
      },
      "cell_type": "markdown",
      "source": [
        "#### taking one fourth data so we can run on our machine easily "
      ]
    },
    {
      "metadata": {
        "trusted": false,
        "id": "rpWT4b4j3dVg"
      },
      "cell_type": "code",
      "source": [
        "data_pos = data_pos.iloc[:int(20000)]\n",
        "data_neg = data_neg.iloc[:int(20000)]"
      ],
      "execution_count": 121,
      "outputs": []
    },
    {
      "metadata": {
        "id": "vfKiVdZJ3dVh"
      },
      "cell_type": "markdown",
      "source": [
        "#### Combining positive and negative tweets"
      ]
    },
    {
      "metadata": {
        "trusted": false,
        "id": "DFnDllbY3dVi"
      },
      "cell_type": "code",
      "source": [
        "data = pd.concat([data_pos, data_neg])"
      ],
      "execution_count": 122,
      "outputs": []
    },
    {
      "cell_type": "code",
      "source": [
        "from google.colab import drive\n",
        "drive.mount('/content/drive')"
      ],
      "metadata": {
        "colab": {
          "base_uri": "https://localhost:8080/",
          "height": 0
        },
        "id": "74xknUkq3v7Y",
        "outputId": "b3b1b8f7-826f-4fdd-dcc1-b55ec954b635"
      },
      "execution_count": 123,
      "outputs": [
        {
          "output_type": "stream",
          "name": "stdout",
          "text": [
            "Drive already mounted at /content/drive; to attempt to forcibly remount, call drive.mount(\"/content/drive\", force_remount=True).\n"
          ]
        }
      ]
    },
    {
      "metadata": {
        "id": "B1E7x3YV3dVi"
      },
      "cell_type": "markdown",
      "source": [
        "#### Making statement text in lower case"
      ]
    },
    {
      "metadata": {
        "trusted": false,
        "id": "zN0XlE6v3dVi"
      },
      "cell_type": "code",
      "source": [
        "data['text']=data['text'].str.lower()"
      ],
      "execution_count": 124,
      "outputs": []
    },
    {
      "metadata": {
        "trusted": false,
        "colab": {
          "base_uri": "https://localhost:8080/",
          "height": 0
        },
        "id": "SHZOAyr13dVi",
        "outputId": "dcdd7e23-73b7-4323-83b9-5fd1eeaaa9cc"
      },
      "cell_type": "code",
      "source": [
        "data['text'].tail()"
      ],
      "execution_count": 125,
      "outputs": [
        {
          "output_type": "execute_result",
          "data": {
            "text/plain": [
              "19995                            one more day of holidays \n",
              "19996    feeling so down right now .. i hate you damn h...\n",
              "19997    geez,i hv to read the whole book of personalit...\n",
              "19998    i threw my sign at donnie and he bent over to ...\n",
              "19999    @heather2711 good thing i didn't find any then...\n",
              "Name: text, dtype: object"
            ]
          },
          "metadata": {},
          "execution_count": 125
        }
      ]
    },
    {
      "metadata": {
        "id": "BiSo8CEn3dVj"
      },
      "cell_type": "markdown",
      "source": [
        "#### Cleaning and removing Stop words of english"
      ]
    },
    {
      "metadata": {
        "trusted": false,
        "id": "tZHj-VvF3dVj"
      },
      "cell_type": "code",
      "source": [
        "stopwords_list = stopwords.words('english')"
      ],
      "execution_count": 126,
      "outputs": []
    },
    {
      "metadata": {
        "trusted": false,
        "colab": {
          "base_uri": "https://localhost:8080/",
          "height": 142
        },
        "id": "u5zSxJeJ3dVk",
        "outputId": "d0d4bb61-1b98-4444-9428-a30768dd0ee6"
      },
      "cell_type": "code",
      "source": [
        "from nltk.corpus import stopwords\n",
        "\", \".join(stopwords.words('english'))"
      ],
      "execution_count": 127,
      "outputs": [
        {
          "output_type": "execute_result",
          "data": {
            "text/plain": [
              "\"i, me, my, myself, we, our, ours, ourselves, you, you're, you've, you'll, you'd, your, yours, yourself, yourselves, he, him, his, himself, she, she's, her, hers, herself, it, it's, its, itself, they, them, their, theirs, themselves, what, which, who, whom, this, that, that'll, these, those, am, is, are, was, were, be, been, being, have, has, had, having, do, does, did, doing, a, an, the, and, but, if, or, because, as, until, while, of, at, by, for, with, about, against, between, into, through, during, before, after, above, below, to, from, up, down, in, out, on, off, over, under, again, further, then, once, here, there, when, where, why, how, all, any, both, each, few, more, most, other, some, such, no, nor, not, only, own, same, so, than, too, very, s, t, can, will, just, don, don't, should, should've, now, d, ll, m, o, re, ve, y, ain, aren, aren't, couldn, couldn't, didn, didn't, doesn, doesn't, hadn, hadn't, hasn, hasn't, haven, haven't, isn, isn't, ma, mightn, mightn't, mustn, mustn't, needn, needn't, shan, shan't, shouldn, shouldn't, wasn, wasn't, weren, weren't, won, won't, wouldn, wouldn't\""
            ],
            "application/vnd.google.colaboratory.intrinsic+json": {
              "type": "string"
            }
          },
          "metadata": {},
          "execution_count": 127
        }
      ]
    },
    {
      "metadata": {
        "id": "ZfK_oGdK3dVk"
      },
      "cell_type": "markdown",
      "source": [
        "#### Cleaning and removing the above stop words list from the tweet text"
      ]
    },
    {
      "metadata": {
        "trusted": false,
        "colab": {
          "base_uri": "https://localhost:8080/",
          "height": 0
        },
        "id": "cqB60hOt3dVl",
        "outputId": "0b6383bd-fee7-4187-d983-57ae8fd78d85"
      },
      "cell_type": "code",
      "source": [
        "STOPWORDS = set(stopwords.words('english'))\n",
        "def cleaning_stopwords(text):\n",
        "    return \" \".join([word for word in str(text).split() if word not in STOPWORDS])\n",
        "data['text'] = data['text'].apply(lambda text: cleaning_stopwords(text))\n",
        "data['text'].head()"
      ],
      "execution_count": 128,
      "outputs": [
        {
          "output_type": "execute_result",
          "data": {
            "text/plain": [
              "799999                love @health4uandpets u guys r best!!\n",
              "800000    im meeting one besties tonight! cant wait!! - ...\n",
              "800001    @darealsunisakim thanks twitter add, sunisa! g...\n",
              "800002    sick really cheap hurts much eat real food plu...\n",
              "800003                      @lovesbrooklyn2 effect everyone\n",
              "Name: text, dtype: object"
            ]
          },
          "metadata": {},
          "execution_count": 128
        }
      ]
    },
    {
      "metadata": {
        "id": "6UH4PUcT3dVl"
      },
      "cell_type": "markdown",
      "source": [
        "#### Cleaning and removing punctuations "
      ]
    },
    {
      "metadata": {
        "trusted": false,
        "id": "25aC7cgQ3dVm"
      },
      "cell_type": "code",
      "source": [
        "english_punctuations = string.punctuation\n",
        "punctuations_list = english_punctuations\n",
        "def cleaning_punctuations(text):\n",
        "    translator = str.maketrans('', '', punctuations_list)\n",
        "    return text.translate(translator)"
      ],
      "execution_count": 129,
      "outputs": []
    },
    {
      "metadata": {
        "trusted": false,
        "colab": {
          "base_uri": "https://localhost:8080/",
          "height": 0
        },
        "id": "-tECVErr3dVm",
        "outputId": "2add5d01-55eb-45ff-e992-4760d8edb8a9"
      },
      "cell_type": "code",
      "source": [
        "data['text']= data['text'].apply(lambda x: cleaning_punctuations(x))\n",
        "data['text'].tail()"
      ],
      "execution_count": 130,
      "outputs": [
        {
          "output_type": "execute_result",
          "data": {
            "text/plain": [
              "19995                                     one day holidays\n",
              "19996                     feeling right  hate damn humprey\n",
              "19997    geezi hv read whole book personality types emb...\n",
              "19998     threw sign donnie bent get thingee made sad face\n",
              "19999    heather2711 good thing find none ones like com...\n",
              "Name: text, dtype: object"
            ]
          },
          "metadata": {},
          "execution_count": 130
        }
      ]
    },
    {
      "metadata": {
        "id": "0R1iXeVt3dVn"
      },
      "cell_type": "markdown",
      "source": [
        "#### Cleaning and removing repeating characters"
      ]
    },
    {
      "metadata": {
        "trusted": false,
        "id": "wRciBDb63dVn"
      },
      "cell_type": "code",
      "source": [
        "def cleaning_repeating_char(text):\n",
        "    return re.sub(r'(.)\\1+', r'\\1', text)"
      ],
      "execution_count": 131,
      "outputs": []
    },
    {
      "metadata": {
        "trusted": false,
        "colab": {
          "base_uri": "https://localhost:8080/",
          "height": 0
        },
        "id": "TsbE4oFI3dVn",
        "outputId": "20dfee31-ccd0-4bf8-d430-a98b7a013f82"
      },
      "cell_type": "code",
      "source": [
        "data['text'] = data['text'].apply(lambda x: cleaning_repeating_char(x))\n",
        "data['text'].tail()"
      ],
      "execution_count": 132,
      "outputs": [
        {
          "output_type": "execute_result",
          "data": {
            "text/plain": [
              "19995                                     one day holidays\n",
              "19996                       feling right hate damn humprey\n",
              "19997    gezi hv read whole bok personality types embar...\n",
              "19998       threw sign donie bent get thinge made sad face\n",
              "19999    heather271 god thing find none ones like come ...\n",
              "Name: text, dtype: object"
            ]
          },
          "metadata": {},
          "execution_count": 132
        }
      ]
    },
    {
      "metadata": {
        "id": "676d7Sl83dVo"
      },
      "cell_type": "markdown",
      "source": [
        "#### Cleaning and removing email"
      ]
    },
    {
      "metadata": {
        "trusted": false,
        "id": "LWQs4gqk3dVo"
      },
      "cell_type": "code",
      "source": [
        "def cleaning_email(data):\n",
        "    return re.sub('@[^\\s]+', ' ', data)"
      ],
      "execution_count": 133,
      "outputs": []
    },
    {
      "metadata": {
        "trusted": false,
        "colab": {
          "base_uri": "https://localhost:8080/",
          "height": 0
        },
        "id": "THFcyIFq3dVo",
        "outputId": "3d0b82fd-523b-4f43-84ea-e1cdf592dcf4"
      },
      "cell_type": "code",
      "source": [
        "data['text']= data['text'].apply(lambda x: cleaning_email(x))\n",
        "data['text'].tail()"
      ],
      "execution_count": 134,
      "outputs": [
        {
          "output_type": "execute_result",
          "data": {
            "text/plain": [
              "19995                                     one day holidays\n",
              "19996                       feling right hate damn humprey\n",
              "19997    gezi hv read whole bok personality types embar...\n",
              "19998       threw sign donie bent get thinge made sad face\n",
              "19999    heather271 god thing find none ones like come ...\n",
              "Name: text, dtype: object"
            ]
          },
          "metadata": {},
          "execution_count": 134
        }
      ]
    },
    {
      "metadata": {
        "id": "dY9QTj1r3dVp"
      },
      "cell_type": "markdown",
      "source": [
        "#### Cleaning and removing URL's"
      ]
    },
    {
      "metadata": {
        "trusted": false,
        "id": "Ac67_CWZ3dVp"
      },
      "cell_type": "code",
      "source": [
        "def cleaning_URLs(data):\n",
        "    return re.sub('((www\\.[^\\s]+)|(https?://[^\\s]+))',' ',data)"
      ],
      "execution_count": 135,
      "outputs": []
    },
    {
      "metadata": {
        "trusted": false,
        "colab": {
          "base_uri": "https://localhost:8080/",
          "height": 0
        },
        "id": "3lIVpZsJ3dVq",
        "outputId": "f8d0bdc9-d7da-4325-cde5-a7853db3fd44"
      },
      "cell_type": "code",
      "source": [
        "data['text'] = data['text'].apply(lambda x: cleaning_URLs(x))\n",
        "data['text'].tail()"
      ],
      "execution_count": 136,
      "outputs": [
        {
          "output_type": "execute_result",
          "data": {
            "text/plain": [
              "19995                                     one day holidays\n",
              "19996                       feling right hate damn humprey\n",
              "19997    gezi hv read whole bok personality types embar...\n",
              "19998       threw sign donie bent get thinge made sad face\n",
              "19999    heather271 god thing find none ones like come ...\n",
              "Name: text, dtype: object"
            ]
          },
          "metadata": {},
          "execution_count": 136
        }
      ]
    },
    {
      "metadata": {
        "id": "cONTBBbE3dVq"
      },
      "cell_type": "markdown",
      "source": [
        "#### Cleaning and removing Numeric numbers"
      ]
    },
    {
      "metadata": {
        "trusted": false,
        "id": "dn6e7Lov3dVq"
      },
      "cell_type": "code",
      "source": [
        "def cleaning_numbers(data):\n",
        "    return re.sub('[0-9]+', '', data)"
      ],
      "execution_count": 137,
      "outputs": []
    },
    {
      "metadata": {
        "trusted": false,
        "colab": {
          "base_uri": "https://localhost:8080/",
          "height": 0
        },
        "id": "z6Qu7xI43dVq",
        "outputId": "72e776b4-c299-4fe1-f65d-ee1baf1e3fb6"
      },
      "cell_type": "code",
      "source": [
        "data['text'] = data['text'].apply(lambda x: cleaning_numbers(x))\n",
        "data['text'].tail()"
      ],
      "execution_count": 138,
      "outputs": [
        {
          "output_type": "execute_result",
          "data": {
            "text/plain": [
              "19995                                     one day holidays\n",
              "19996                       feling right hate damn humprey\n",
              "19997    gezi hv read whole bok personality types embar...\n",
              "19998       threw sign donie bent get thinge made sad face\n",
              "19999    heather god thing find none ones like come siz...\n",
              "Name: text, dtype: object"
            ]
          },
          "metadata": {},
          "execution_count": 138
        }
      ]
    },
    {
      "metadata": {
        "id": "JJUk73tm3dVr"
      },
      "cell_type": "markdown",
      "source": [
        "#### Getting tokenization of tweet text"
      ]
    },
    {
      "metadata": {
        "trusted": false,
        "id": "zR8DbqPf3dVs"
      },
      "cell_type": "code",
      "source": [
        "tokenizer = RegexpTokenizer(r'\\w+')\n",
        "data['text'] = data['text'].apply(tokenizer.tokenize)"
      ],
      "execution_count": 139,
      "outputs": []
    },
    {
      "metadata": {
        "trusted": false,
        "colab": {
          "base_uri": "https://localhost:8080/",
          "height": 0
        },
        "id": "jkDbsMnT3dVs",
        "outputId": "33a9720a-d98b-49c1-cb12-6a3ea0d10cd7"
      },
      "cell_type": "code",
      "source": [
        "data['text'].head()"
      ],
      "execution_count": 140,
      "outputs": [
        {
          "output_type": "execute_result",
          "data": {
            "text/plain": [
              "799999             [love, healthuandpets, u, guys, r, best]\n",
              "800000    [im, meting, one, besties, tonight, cant, wait...\n",
              "800001    [darealsunisakim, thanks, twiter, ad, sunisa, ...\n",
              "800002    [sick, realy, cheap, hurts, much, eat, real, f...\n",
              "800003                      [lovesbroklyn, efect, everyone]\n",
              "Name: text, dtype: object"
            ]
          },
          "metadata": {},
          "execution_count": 140
        }
      ]
    },
    {
      "metadata": {
        "id": "99dNwJC-3dVs"
      },
      "cell_type": "markdown",
      "source": [
        "#### Applying Stemming"
      ]
    },
    {
      "metadata": {
        "trusted": false,
        "id": "KunvY_lh3dVt"
      },
      "cell_type": "code",
      "source": [
        "st = nltk.PorterStemmer()\n",
        "def stemming_on_text(data):\n",
        "    text = [st.stem(word) for word in data]\n",
        "    return data\n",
        "\n",
        "data['text']= data['text'].apply(lambda x: stemming_on_text(x))"
      ],
      "execution_count": 141,
      "outputs": []
    },
    {
      "metadata": {
        "trusted": false,
        "colab": {
          "base_uri": "https://localhost:8080/",
          "height": 0
        },
        "id": "B3YuCOiF3dVt",
        "outputId": "53d56f14-3c16-45ab-aa30-236bf29555eb"
      },
      "cell_type": "code",
      "source": [
        "data['text'].head()"
      ],
      "execution_count": 142,
      "outputs": [
        {
          "output_type": "execute_result",
          "data": {
            "text/plain": [
              "799999             [love, healthuandpets, u, guys, r, best]\n",
              "800000    [im, meting, one, besties, tonight, cant, wait...\n",
              "800001    [darealsunisakim, thanks, twiter, ad, sunisa, ...\n",
              "800002    [sick, realy, cheap, hurts, much, eat, real, f...\n",
              "800003                      [lovesbroklyn, efect, everyone]\n",
              "Name: text, dtype: object"
            ]
          },
          "metadata": {},
          "execution_count": 142
        }
      ]
    },
    {
      "metadata": {
        "id": "NdhWKYC63dVu"
      },
      "cell_type": "markdown",
      "source": [
        "#### Applying Lemmatizer"
      ]
    },
    {
      "metadata": {
        "trusted": false,
        "id": "MYUIIpmi3dVu"
      },
      "cell_type": "code",
      "source": [
        "lm = nltk.WordNetLemmatizer()\n",
        "def lemmatizer_on_text(data):\n",
        "    text = [lm.lemmatize(word) for word in data]\n",
        "    return data\n",
        "\n",
        "data['text'] = data['text'].apply(lambda x: lemmatizer_on_text(x))"
      ],
      "execution_count": 143,
      "outputs": []
    },
    {
      "metadata": {
        "trusted": false,
        "colab": {
          "base_uri": "https://localhost:8080/",
          "height": 0
        },
        "id": "R56HWhlu3dVu",
        "outputId": "37ac2c0a-2a4f-4297-a1ff-c70817fc2244"
      },
      "cell_type": "code",
      "source": [
        "data['text'].head()"
      ],
      "execution_count": 144,
      "outputs": [
        {
          "output_type": "execute_result",
          "data": {
            "text/plain": [
              "799999             [love, healthuandpets, u, guys, r, best]\n",
              "800000    [im, meting, one, besties, tonight, cant, wait...\n",
              "800001    [darealsunisakim, thanks, twiter, ad, sunisa, ...\n",
              "800002    [sick, realy, cheap, hurts, much, eat, real, f...\n",
              "800003                      [lovesbroklyn, efect, everyone]\n",
              "Name: text, dtype: object"
            ]
          },
          "metadata": {},
          "execution_count": 144
        }
      ]
    },
    {
      "metadata": {
        "id": "GJ8JWCyQ3dVv"
      },
      "cell_type": "markdown",
      "source": [
        "<b> <h3> Inputs : </h3></b>  Inputs are the data that we feed into machine learning like in this project tweets texts are the inputs. "
      ]
    },
    {
      "metadata": {
        "id": "ekUpR8_h3dVw"
      },
      "cell_type": "markdown",
      "source": [
        "<b> <h3> Training Data </h3></b>  We use training data when we train the models. We feed train data to machine learning and deep learning models so that model can learn from the data."
      ]
    },
    {
      "metadata": {
        "id": "4za-T-fe3dVw"
      },
      "cell_type": "markdown",
      "source": [
        "<b> <h3> Validation Data </h3></b>  We use validation data while training the model. We use this data to evalaute the performance that how the model perform on training time."
      ]
    },
    {
      "metadata": {
        "id": "S9evMVvx3dVw"
      },
      "cell_type": "markdown",
      "source": [
        "####  Separating input feature and label"
      ]
    },
    {
      "metadata": {
        "trusted": false,
        "id": "ZN6OVMBq3dVw"
      },
      "cell_type": "code",
      "source": [
        "X=data.text\n",
        "y=data.label"
      ],
      "execution_count": 145,
      "outputs": []
    },
    {
      "metadata": {
        "id": "nzRe8WP23dVx"
      },
      "cell_type": "markdown",
      "source": [
        "#### Preparing the input features for training "
      ]
    },
    {
      "metadata": {
        "id": "plIFObh4jYJV",
        "trusted": false
      },
      "cell_type": "code",
      "source": [
        "max_len = 500\n",
        "tok = Tokenizer(num_words=2000)\n",
        "tok.fit_on_texts(X)\n",
        "sequences = tok.texts_to_sequences(X)\n",
        "sequences_matrix = sequence.pad_sequences(sequences,maxlen=max_len)"
      ],
      "execution_count": 146,
      "outputs": []
    },
    {
      "metadata": {
        "id": "wNFBI7T93dWH"
      },
      "cell_type": "markdown",
      "source": [
        "As we can see that there total 40000 tweets and the number words/features are 500."
      ]
    },
    {
      "metadata": {
        "trusted": false,
        "colab": {
          "base_uri": "https://localhost:8080/",
          "height": 0
        },
        "id": "3X-GMI9v3dWH",
        "outputId": "9183f5f4-8fbe-4205-d790-a5d45af00dc5"
      },
      "cell_type": "code",
      "source": [
        "sequences_matrix.shape"
      ],
      "execution_count": 147,
      "outputs": [
        {
          "output_type": "execute_result",
          "data": {
            "text/plain": [
              "(40000, 500)"
            ]
          },
          "metadata": {},
          "execution_count": 147
        }
      ]
    },
    {
      "metadata": {
        "id": "Uvvf_rGV3dWI"
      },
      "cell_type": "markdown",
      "source": [
        "#### Separating the 70% data for training data and 30% for testing data"
      ]
    },
    {
      "metadata": {
        "id": "oOlkTTg4oRqR",
        "trusted": false
      },
      "cell_type": "code",
      "source": [
        "X_train, X_test, Y_train, Y_test = train_test_split(sequences_matrix, y, test_size=0.3, random_state=2)"
      ],
      "execution_count": 148,
      "outputs": []
    },
    {
      "metadata": {
        "papermill": {
          "duration": 0.065466,
          "end_time": "2020-11-30T07:38:51.578836",
          "exception": false,
          "start_time": "2020-11-30T07:38:51.513370",
          "status": "completed"
        },
        "tags": [],
        "id": "5UVeHpVR3dWJ"
      },
      "cell_type": "markdown",
      "source": [
        "<div class=\"alert alert-block alert-danger\">  \n",
        "<h2>Implementing Tensorflow based model for training</h2>   \n",
        "</div>"
      ]
    },
    {
      "metadata": {
        "trusted": false,
        "id": "IgQgYG3S3dWJ"
      },
      "cell_type": "code",
      "source": [
        "def tensorflow_based_model(): #Defined tensorflow_based_model function for training tenforflow based model\n",
        "    inputs = Input(name='inputs',shape=[max_len])#step1\n",
        "    layer = Embedding(2000,50,input_length=max_len)(inputs) #step2\n",
        "    layer = LSTM(64)(layer) #step3\n",
        "    layer = Dense(256,name='FC1')(layer) #step4\n",
        "    layer = Activation('relu')(layer) # step5\n",
        "    layer = Dropout(0.5)(layer) # step6\n",
        "    layer = Dense(1,name='out_layer')(layer) #step4 again but this time its giving only one output as because we need to classify the tweet as positive or negative\n",
        "    layer = Activation('sigmoid')(layer) #step5 but this time activation function is sigmoid for only one output.\n",
        "    model = Model(inputs=inputs,outputs=layer) #here we are getting the final output value in the model for classification\n",
        "    return model #function returning the value when we call it"
      ],
      "execution_count": 149,
      "outputs": []
    },
    {
      "metadata": {
        "id": "b20L_OIu3dWK"
      },
      "cell_type": "markdown",
      "source": [
        "# Model compilation"
      ]
    },
    {
      "metadata": {
        "trusted": false,
        "id": "j29DBafY3dWL"
      },
      "cell_type": "code",
      "source": [
        "model = tensorflow_based_model() # here we are calling the function of created model\n",
        "model.compile(loss='binary_crossentropy',optimizer=RMSprop(),metrics=['accuracy'])  "
      ],
      "execution_count": 150,
      "outputs": []
    },
    {
      "metadata": {
        "trusted": false,
        "colab": {
          "base_uri": "https://localhost:8080/",
          "height": 0
        },
        "id": "HmAzJ0oq3dWL",
        "outputId": "07888fd2-35fa-42a1-b248-e9423c6b7e8b"
      },
      "cell_type": "code",
      "source": [
        "history=model.fit(X_train,Y_train,batch_size=80,epochs=6, validation_split=0.1)# here we are starting the training of model by feeding the training data\n",
        "print('Training finished !!')"
      ],
      "execution_count": 151,
      "outputs": [
        {
          "output_type": "stream",
          "name": "stdout",
          "text": [
            "Epoch 1/6\n",
            "315/315 [==============================] - 124s 383ms/step - loss: 0.5740 - accuracy: 0.6956 - val_loss: 0.5268 - val_accuracy: 0.7393\n",
            "Epoch 2/6\n",
            "315/315 [==============================] - 117s 371ms/step - loss: 0.5021 - accuracy: 0.7577 - val_loss: 0.5177 - val_accuracy: 0.7389\n",
            "Epoch 3/6\n",
            "315/315 [==============================] - 121s 385ms/step - loss: 0.5907 - accuracy: 0.7163 - val_loss: 0.5303 - val_accuracy: 0.7346\n",
            "Epoch 4/6\n",
            "315/315 [==============================] - 119s 377ms/step - loss: 0.4921 - accuracy: 0.7625 - val_loss: 0.5207 - val_accuracy: 0.7418\n",
            "Epoch 5/6\n",
            "315/315 [==============================] - 120s 382ms/step - loss: 0.4921 - accuracy: 0.7615 - val_loss: 0.5234 - val_accuracy: 0.7443\n",
            "Epoch 6/6\n",
            "315/315 [==============================] - 119s 377ms/step - loss: 0.4690 - accuracy: 0.7744 - val_loss: 0.5259 - val_accuracy: 0.7400\n",
            "Training finished !!\n"
          ]
        }
      ]
    },
    {
      "metadata": {
        "id": "aQ72A5F4U0wr"
      },
      "cell_type": "markdown",
      "source": [
        "#### Testing the Trained model on test data"
      ]
    },
    {
      "metadata": {
        "colab": {
          "base_uri": "https://localhost:8080/",
          "height": 0
        },
        "id": "LlxD3pU9U0ws",
        "outputId": "00212b93-4da0-4e52-9bda-ef0fb309afa1",
        "trusted": false
      },
      "cell_type": "code",
      "source": [
        "accr1 = model.evaluate(X_test,Y_test) #we are starting to test the model here"
      ],
      "execution_count": 152,
      "outputs": [
        {
          "output_type": "stream",
          "name": "stdout",
          "text": [
            "375/375 [==============================] - 24s 63ms/step - loss: 0.5254 - accuracy: 0.7401\n"
          ]
        }
      ]
    },
    {
      "metadata": {
        "id": "h5ZOTOh14WKO"
      },
      "cell_type": "markdown",
      "source": [
        "#### Accuracy"
      ]
    },
    {
      "metadata": {
        "colab": {
          "base_uri": "https://localhost:8080/",
          "height": 0
        },
        "id": "E2bQq4jaU0wt",
        "outputId": "cb24db70-70c4-45cd-dca7-94784fd1bdc5",
        "trusted": false
      },
      "cell_type": "code",
      "source": [
        "print('Test set\\n  Accuracy: {:0.2f}'.format(accr1[1])) #the accuracy of the model on test data is given below"
      ],
      "execution_count": 153,
      "outputs": [
        {
          "output_type": "stream",
          "name": "stdout",
          "text": [
            "Test set\n",
            "  Accuracy: 0.74\n"
          ]
        }
      ]
    },
    {
      "metadata": {
        "id": "PkyoFuXz3dWR"
      },
      "cell_type": "markdown",
      "source": [
        "#### Getting prediction of the test data and then we will compare the true labels/classes of the data with predictions"
      ]
    },
    {
      "metadata": {
        "trusted": false,
        "colab": {
          "base_uri": "https://localhost:8080/",
          "height": 0
        },
        "id": "59Y4-TEI3dWS",
        "outputId": "0904e63c-7513-47b1-ba55-70862924e30f"
      },
      "cell_type": "code",
      "source": [
        "y_pred = model.predict(X_test) #getting predictions on the trained model\n",
        "y_pred = (y_pred > 0.5) "
      ],
      "execution_count": 154,
      "outputs": [
        {
          "output_type": "stream",
          "name": "stdout",
          "text": [
            "375/375 [==============================] - 24s 63ms/step\n"
          ]
        }
      ]
    },
    {
      "metadata": {
        "id": "40MjbuBA7Og9"
      },
      "cell_type": "markdown",
      "source": [
        "#### Confusion matrix"
      ]
    },
    {
      "metadata": {
        "colab": {
          "base_uri": "https://localhost:8080/",
          "height": 735
        },
        "id": "WERD7KXs8YmQ",
        "outputId": "4472dd85-c613-4204-9072-b08819793c50",
        "trusted": false
      },
      "cell_type": "code",
      "source": [
        "print('\\n')\n",
        "print(\"confusion matrix\")\n",
        "print('\\n')\n",
        "CR=confusion_matrix(Y_test, y_pred)\n",
        "print(CR)\n",
        "print('\\n')\n",
        "\n",
        "fig, ax = plot_confusion_matrix(conf_mat=CR,figsize=(10, 10),\n",
        "                                show_absolute=True,\n",
        "                                show_normed=True,\n",
        "                                colorbar=True)\n",
        "plt.show()"
      ],
      "execution_count": 155,
      "outputs": [
        {
          "output_type": "stream",
          "name": "stdout",
          "text": [
            "\n",
            "\n",
            "confusion matrix\n",
            "\n",
            "\n",
            "[[4002 2007]\n",
            " [1112 4879]]\n",
            "\n",
            "\n"
          ]
        },
        {
          "output_type": "display_data",
          "data": {
            "text/plain": [
              "<Figure size 720x720 with 2 Axes>"
            ],
            "image/png": "[encoded data removed]"
          },
          "metadata": {
            "needs_background": "light"
          }
        }
      ]
    },
    {
      "metadata": {
        "id": "wlWpCx_OXEIq"
      },
      "cell_type": "markdown",
      "source": [
        "# ROC CURVE"
      ]
    },
    {
      "metadata": {
        "colab": {
          "base_uri": "https://localhost:8080/",
          "height": 299
        },
        "id": "uypTDMUZXEIq",
        "outputId": "7229e019-95c3-443b-ccaf-a0a8ab3828e3",
        "scrolled": true,
        "trusted": false
      },
      "cell_type": "code",
      "source": [
        "fpr, tpr, thresholds = roc_curve(Y_test, y_pred)\n",
        "roc_auc = auc(fpr, tpr)\n",
        "plt.figure()\n",
        "plt.plot(fpr, tpr, color='darkorange', lw=1, label='ROC curve (area = %0.2f)' % roc_auc)\n",
        "plt.xlim([0.0, 1.0])\n",
        "plt.ylim([0.0, 1.05])\n",
        "plt.xlabel('False Positive Rate')\n",
        "plt.ylabel('True Positive Rate')\n",
        "plt.title('ROC CURVE')\n",
        "plt.legend(loc=\"lower right\")\n",
        "plt.show()\n",
        "\n",
        "\n",
        "\n"
      ],
      "execution_count": 156,
      "outputs": [
        {
          "output_type": "display_data",
          "data": {
            "text/plain": [
              "<Figure size 432x288 with 1 Axes>"
            ],
            "image/png": "[encoded data removed]"
          },
          "metadata": {
            "needs_background": "light"
          }
        }
      ]
    }
  ],
  "metadata": {
    "kernelspec": {
      "name": "python3",
      "display_name": "Python 3",
      "language": "python"
    },
    "language_info": {
      "name": "python",
      "version": "3.7.9",
      "mimetype": "text/x-python",
      "codemirror_mode": {
        "name": "ipython",
        "version": 3
      },
      "pygments_lexer": "ipython3",
      "nbconvert_exporter": "python",
      "file_extension": ".py"
    },
    "colab": {
      "provenance": [],
      "include_colab_link": true
    }
  },
  "nbformat": 4,
  "nbformat_minor": 0
}