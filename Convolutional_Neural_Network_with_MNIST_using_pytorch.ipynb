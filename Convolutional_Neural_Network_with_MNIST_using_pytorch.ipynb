{
  "cells": [
    {
      "cell_type": "markdown",
      "metadata": {
        "id": "view-in-github",
        "colab_type": "text"
      },
      "source": [
        "<a href=\"https://colab.research.google.com/github/Pr454th/Deep-Learning/blob/main/Convolutional_Neural_Network_with_MNIST_using_pytorch.ipynb\" target=\"_parent\"><img src=\"https://colab.research.google.com/assets/colab-badge.svg\" alt=\"Open In Colab\"/></a>"
      ]
    },
    {
      "cell_type": "markdown",
      "id": "8773c115",
      "metadata": {
        "id": "8773c115"
      },
      "source": [
        "# Import Libraries"
      ]
    },
    {
      "cell_type": "code",
      "execution_count": 11,
      "id": "f8a440ea",
      "metadata": {
        "id": "f8a440ea"
      },
      "outputs": [],
      "source": [
        "import torch, torchvision\n",
        "from torch import nn\n",
        "from torch import optim\n",
        "from torchvision.transforms import ToTensor\n",
        "from torch.utils.data import TensorDataset, DataLoader\n",
        "import torch.nn.functional as F\n",
        "import matplotlib.pyplot as plt\n",
        "import copy\n",
        "import numpy as np\n",
        "from sklearn.metrics import confusion_matrix\n",
        "import pandas as pd\n",
        "import requests\n",
        "from io import BytesIO\n",
        "from PIL import Image\n",
        "import h5py"
      ]
    },
    {
      "cell_type": "code",
      "execution_count": 12,
      "id": "700632a8",
      "metadata": {
        "id": "700632a8"
      },
      "outputs": [],
      "source": [
        "numb_batch=64"
      ]
    },
    {
      "cell_type": "markdown",
      "id": "758abc6c",
      "metadata": {
        "id": "758abc6c"
      },
      "source": [
        "# Getting Data "
      ]
    },
    {
      "cell_type": "code",
      "execution_count": 13,
      "id": "cbdcae5f",
      "metadata": {
        "id": "cbdcae5f"
      },
      "outputs": [],
      "source": [
        "T=torchvision.transforms.Compose([\n",
        "    torchvision.transforms.ToTensor()\n",
        "])\n",
        "\n",
        "train_data=torchvision.datasets.MNIST('mnist_data',train=True,download=True,transform=T);\n",
        "val_data=torchvision.datasets.MNIST('mnist_data',train=False,download=True,transform=T);\n",
        "\n",
        "train_dl=torch.utils.data.DataLoader(train_data,batch_size=numb_batch)\n",
        "val_dl=torch.utils.data.DataLoader(val_data,batch_size=numb_batch)"
      ]
    },
    {
      "cell_type": "code",
      "execution_count": 14,
      "id": "184b2fe4",
      "metadata": {
        "colab": {
          "base_uri": "https://localhost:8080/",
          "height": 282
        },
        "id": "184b2fe4",
        "outputId": "054241b5-3030-461c-ecee-9efdc5f1ce11"
      },
      "outputs": [
        {
          "output_type": "execute_result",
          "data": {
            "text/plain": [
              "<matplotlib.image.AxesImage at 0x7fa69c205710>"
            ]
          },
          "metadata": {},
          "execution_count": 14
        },
        {
          "output_type": "display_data",
          "data": {
            "text/plain": [
              "<Figure size 432x288 with 1 Axes>"
            ],
            "image/png": "[encoded data removed]"
          },
          "metadata": {
            "needs_background": "light"
          }
        }
      ],
      "source": [
        "plt.imshow(train_data[0][0][0],cmap=\"gray\")"
      ]
    },
    {
      "cell_type": "markdown",
      "id": "8fa21b6e",
      "metadata": {
        "id": "8fa21b6e"
      },
      "source": [
        "# Create the Model"
      ]
    },
    {
      "cell_type": "code",
      "execution_count": 15,
      "id": "161585ed",
      "metadata": {
        "id": "161585ed"
      },
      "outputs": [],
      "source": [
        "def create_lenet():\n",
        "    model=nn.Sequential(\n",
        "        nn.Conv2d(1,6,5,padding=2),\n",
        "        nn.ReLU(),\n",
        "        nn.AvgPool2d(2,stride=2),\n",
        "        \n",
        "        nn.Conv2d(6,16,5,padding=0),\n",
        "        nn.ReLU(),\n",
        "        # nn.Softmax(),\n",
        "        nn.AvgPool2d(2,stride=2),\n",
        "        \n",
        "        nn.Flatten(),\n",
        "        nn.Linear(400,120),\n",
        "        nn.Linear(120,84),\n",
        "        nn.Linear(84,10)\n",
        "    )\n",
        "    return model"
      ]
    },
    {
      "cell_type": "markdown",
      "id": "8dba4c98",
      "metadata": {
        "id": "8dba4c98"
      },
      "source": [
        "# Validate the Model"
      ]
    },
    {
      "cell_type": "code",
      "execution_count": 16,
      "id": "d89ba7aa",
      "metadata": {
        "id": "d89ba7aa"
      },
      "outputs": [],
      "source": [
        "def validate(model,data):\n",
        "    total=0\n",
        "    correct=0\n",
        "    for i,(images,labels) in enumerate(data):\n",
        "        images=images.cuda()\n",
        "        x=model(images)\n",
        "        value,pred=torch.max(x,1)\n",
        "        pred=pred.data.cpu()\n",
        "        total+=x.size(0)\n",
        "        correct+=torch.sum(pred==labels)\n",
        "    return correct*100./total"
      ]
    },
    {
      "cell_type": "markdown",
      "id": "9283dc77",
      "metadata": {
        "id": "9283dc77"
      },
      "source": [
        "# Training Function"
      ]
    },
    {
      "cell_type": "code",
      "execution_count": 17,
      "id": "7d9542b8",
      "metadata": {
        "id": "7d9542b8"
      },
      "outputs": [],
      "source": [
        "def train(numb_epoch=3, lr=1e-3, device=\"cpu\"):\n",
        "    accuracies = []\n",
        "    cnn = create_lenet().to(device)\n",
        "    cec = nn.CrossEntropyLoss()\n",
        "    optimizer = optim.Adam(cnn.parameters(), lr=lr)\n",
        "    max_accuracy = 0\n",
        "    for epoch in range(numb_epoch):\n",
        "        for i, (images, labels) in enumerate(train_dl):\n",
        "            images = images.to(device)\n",
        "            labels = labels.to(device)\n",
        "            optimizer.zero_grad()\n",
        "            pred = cnn(images)\n",
        "            loss = cec(pred, labels)\n",
        "            loss.backward()\n",
        "            optimizer.step()\n",
        "        accuracy = float(validate(cnn, val_dl))\n",
        "        accuracies.append(accuracy)\n",
        "        if accuracy > max_accuracy:\n",
        "            best_model = copy.deepcopy(cnn)\n",
        "            max_accuracy = accuracy\n",
        "            print(\"Saving Best Model with Accuracy: \", accuracy)\n",
        "        print('Epoch:', epoch+1, \"Accuracy :\", accuracy, '%')\n",
        "    plt.plot(accuracies)\n",
        "    return best_model"
      ]
    },
    {
      "cell_type": "markdown",
      "id": "1fb18ff4",
      "metadata": {
        "id": "1fb18ff4"
      },
      "source": [
        "# GPU availability"
      ]
    },
    {
      "cell_type": "code",
      "execution_count": 18,
      "id": "2b5e64b7",
      "metadata": {
        "id": "2b5e64b7"
      },
      "outputs": [],
      "source": [
        "if torch.cuda.is_available():\n",
        "    device=torch.device(\"cuda:0\")\n",
        "else:\n",
        "    device=torch.device(\"cpu\")"
      ]
    },
    {
      "cell_type": "code",
      "execution_count": 19,
      "id": "1d9ce938",
      "metadata": {
        "colab": {
          "base_uri": "https://localhost:8080/"
        },
        "id": "1d9ce938",
        "outputId": "5188416f-433b-4fa8-e82b-c7a64510ba0f"
      },
      "outputs": [
        {
          "output_type": "execute_result",
          "data": {
            "text/plain": [
              "device(type='cuda', index=0)"
            ]
          },
          "metadata": {},
          "execution_count": 19
        }
      ],
      "source": [
        "device"
      ]
    },
    {
      "cell_type": "markdown",
      "id": "de29d9fd",
      "metadata": {
        "id": "de29d9fd"
      },
      "source": [
        "# Training the model"
      ]
    },
    {
      "cell_type": "code",
      "execution_count": 20,
      "id": "1503ab8e",
      "metadata": {
        "scrolled": true,
        "colab": {
          "base_uri": "https://localhost:8080/",
          "height": 1000
        },
        "id": "1503ab8e",
        "outputId": "98efd558-72e7-49cd-b13e-95c562bd4916"
      },
      "outputs": [
        {
          "output_type": "stream",
          "name": "stdout",
          "text": [
            "Saving Best Model with Accuracy:  96.75\n",
            "Epoch: 1 Accuracy : 96.75 %\n",
            "Saving Best Model with Accuracy:  97.7300033569336\n",
            "Epoch: 2 Accuracy : 97.7300033569336 %\n",
            "Saving Best Model with Accuracy:  98.22000122070312\n",
            "Epoch: 3 Accuracy : 98.22000122070312 %\n",
            "Saving Best Model with Accuracy:  98.2699966430664\n",
            "Epoch: 4 Accuracy : 98.2699966430664 %\n",
            "Saving Best Model with Accuracy:  98.31999969482422\n",
            "Epoch: 5 Accuracy : 98.31999969482422 %\n",
            "Saving Best Model with Accuracy:  98.37999725341797\n",
            "Epoch: 6 Accuracy : 98.37999725341797 %\n",
            "Saving Best Model with Accuracy:  98.48999786376953\n",
            "Epoch: 7 Accuracy : 98.48999786376953 %\n",
            "Saving Best Model with Accuracy:  98.62999725341797\n",
            "Epoch: 8 Accuracy : 98.62999725341797 %\n",
            "Saving Best Model with Accuracy:  98.69999694824219\n",
            "Epoch: 9 Accuracy : 98.69999694824219 %\n",
            "Epoch: 10 Accuracy : 98.55999755859375 %\n",
            "Epoch: 11 Accuracy : 98.41999816894531 %\n",
            "Epoch: 12 Accuracy : 98.55000305175781 %\n",
            "Epoch: 13 Accuracy : 98.6500015258789 %\n",
            "Saving Best Model with Accuracy:  98.80000305175781\n",
            "Epoch: 14 Accuracy : 98.80000305175781 %\n",
            "Epoch: 15 Accuracy : 98.52999877929688 %\n",
            "Epoch: 16 Accuracy : 98.6500015258789 %\n",
            "Epoch: 17 Accuracy : 98.69000244140625 %\n",
            "Epoch: 18 Accuracy : 98.7300033569336 %\n",
            "Epoch: 19 Accuracy : 98.62000274658203 %\n",
            "Epoch: 20 Accuracy : 98.66999816894531 %\n",
            "Saving Best Model with Accuracy:  98.87999725341797\n",
            "Epoch: 21 Accuracy : 98.87999725341797 %\n",
            "Epoch: 22 Accuracy : 98.80000305175781 %\n",
            "Epoch: 23 Accuracy : 98.56999969482422 %\n",
            "Epoch: 24 Accuracy : 98.77999877929688 %\n",
            "Saving Best Model with Accuracy:  98.95999908447266\n",
            "Epoch: 25 Accuracy : 98.95999908447266 %\n",
            "Epoch: 26 Accuracy : 98.73999786376953 %\n",
            "Epoch: 27 Accuracy : 98.95999908447266 %\n",
            "Epoch: 28 Accuracy : 98.8499984741211 %\n",
            "Epoch: 29 Accuracy : 98.63999938964844 %\n",
            "Epoch: 30 Accuracy : 98.76000213623047 %\n",
            "Saving Best Model with Accuracy:  98.98999786376953\n",
            "Epoch: 31 Accuracy : 98.98999786376953 %\n",
            "Epoch: 32 Accuracy : 98.72000122070312 %\n",
            "Epoch: 33 Accuracy : 98.5199966430664 %\n",
            "Epoch: 34 Accuracy : 98.69000244140625 %\n",
            "Epoch: 35 Accuracy : 98.86000061035156 %\n",
            "Epoch: 36 Accuracy : 98.8499984741211 %\n",
            "Epoch: 37 Accuracy : 98.76000213623047 %\n",
            "Epoch: 38 Accuracy : 98.77999877929688 %\n",
            "Epoch: 39 Accuracy : 98.83999633789062 %\n",
            "Epoch: 40 Accuracy : 98.87999725341797 %\n"
          ]
        },
        {
          "output_type": "display_data",
          "data": {
            "text/plain": [
              "<Figure size 432x288 with 1 Axes>"
            ],
            "image/png": "[encoded data removed]"
          },
          "metadata": {
            "needs_background": "light"
          }
        }
      ],
      "source": [
        "lenet=train(40,device=device)"
      ]
    },
    {
      "cell_type": "code",
      "source": [
        "from google.colab import drive\n",
        "drive.mount('/content/drive')"
      ],
      "metadata": {
        "colab": {
          "base_uri": "https://localhost:8080/"
        },
        "id": "16u9Mo3AGXmd",
        "outputId": "d52a50b4-eb45-45e2-a5e4-782a46c90e48"
      },
      "id": "16u9Mo3AGXmd",
      "execution_count": 21,
      "outputs": [
        {
          "output_type": "stream",
          "name": "stdout",
          "text": [
            "Mounted at /content/drive\n"
          ]
        }
      ]
    },
    {
      "cell_type": "code",
      "source": [
        "def predict_dl(model,data):\n",
        "  y_pred=[]\n",
        "  y_true=[]\n",
        "  for i,(images,labels) in enumerate(data):\n",
        "    images=images.cuda()\n",
        "    x=model(images)\n",
        "    value,pred=torch.max(x,1)\n",
        "    pred=pred.data.cpu()\n",
        "    y_pred.extend(list(pred.numpy()))\n",
        "    y_true.extend(list(labels.numpy()))\n",
        "  return np.array(y_pred),np.array(y_true)"
      ],
      "metadata": {
        "id": "vZOHz5YtHU3M"
      },
      "id": "vZOHz5YtHU3M",
      "execution_count": 22,
      "outputs": []
    },
    {
      "cell_type": "code",
      "execution_count": 23,
      "id": "6ff35d20",
      "metadata": {
        "id": "6ff35d20"
      },
      "outputs": [],
      "source": [
        "y_pred,y_true=predict_dl(lenet,val_dl)"
      ]
    },
    {
      "cell_type": "code",
      "source": [
        "pd.DataFrame(confusion_matrix(y_true,y_pred,labels=np.arange(0,10)))"
      ],
      "metadata": {
        "colab": {
          "base_uri": "https://localhost:8080/",
          "height": 363
        },
        "id": "IdI1f79XIH9T",
        "outputId": "11666aec-04f3-41fe-c8d9-0da3f7885257"
      },
      "id": "IdI1f79XIH9T",
      "execution_count": 24,
      "outputs": [
        {
          "output_type": "execute_result",
          "data": {
            "text/plain": [
              "     0     1     2     3    4    5    6     7    8    9\n",
              "0  977     0     1     0    0    0    0     0    1    1\n",
              "1    0  1132     0     1    0    0    0     0    2    0\n",
              "2    0     3  1026     0    0    0    0     1    2    0\n",
              "3    0     2     3  1000    0    4    0     0    1    0\n",
              "4    0     0     1     0  966    0    5     0    1    9\n",
              "5    2     1     0     5    0  882    1     1    0    0\n",
              "6    5     3     0     0    0    1  946     0    3    0\n",
              "7    0     3     5     1    0    0    0  1016    1    2\n",
              "8    3     0     4     0    0    1    0     0  964    2\n",
              "9    0     2     1     0    3    6    1     2    4  990"
            ],
            "text/html": [
              "\n",
              "  <div id=\"df-67d1121b-306c-4190-9ba3-12ad68c534c9\">\n",
              "    <div class=\"colab-df-container\">\n",
              "      <div>\n",
              "<style scoped>\n",
              "    .dataframe tbody tr th:only-of-type {\n",
              "        vertical-align: middle;\n",
              "    }\n",
              "\n",
              "    .dataframe tbody tr th {\n",
              "        vertical-align: top;\n",
              "    }\n",
              "\n",
              "    .dataframe thead th {\n",
              "        text-align: right;\n",
              "    }\n",
              "</style>\n",
              "<table border=\"1\" class=\"dataframe\">\n",
              "  <thead>\n",
              "    <tr style=\"text-align: right;\">\n",
              "      <th></th>\n",
              "      <th>0</th>\n",
              "      <th>1</th>\n",
              "      <th>2</th>\n",
              "      <th>3</th>\n",
              "      <th>4</th>\n",
              "      <th>5</th>\n",
              "      <th>6</th>\n",
              "      <th>7</th>\n",
              "      <th>8</th>\n",
              "      <th>9</th>\n",
              "    </tr>\n",
              "  </thead>\n",
              "  <tbody>\n",
              "    <tr>\n",
              "      <th>0</th>\n",
              "      <td>977</td>\n",
              "      <td>0</td>\n",
              "      <td>1</td>\n",
              "      <td>0</td>\n",
              "      <td>0</td>\n",
              "      <td>0</td>\n",
              "      <td>0</td>\n",
              "      <td>0</td>\n",
              "      <td>1</td>\n",
              "      <td>1</td>\n",
              "    </tr>\n",
              "    <tr>\n",
              "      <th>1</th>\n",
              "      <td>0</td>\n",
              "      <td>1132</td>\n",
              "      <td>0</td>\n",
              "      <td>1</td>\n",
              "      <td>0</td>\n",
              "      <td>0</td>\n",
              "      <td>0</td>\n",
              "      <td>0</td>\n",
              "      <td>2</td>\n",
              "      <td>0</td>\n",
              "    </tr>\n",
              "    <tr>\n",
              "      <th>2</th>\n",
              "      <td>0</td>\n",
              "      <td>3</td>\n",
              "      <td>1026</td>\n",
              "      <td>0</td>\n",
              "      <td>0</td>\n",
              "      <td>0</td>\n",
              "      <td>0</td>\n",
              "      <td>1</td>\n",
              "      <td>2</td>\n",
              "      <td>0</td>\n",
              "    </tr>\n",
              "    <tr>\n",
              "      <th>3</th>\n",
              "      <td>0</td>\n",
              "      <td>2</td>\n",
              "      <td>3</td>\n",
              "      <td>1000</td>\n",
              "      <td>0</td>\n",
              "      <td>4</td>\n",
              "      <td>0</td>\n",
              "      <td>0</td>\n",
              "      <td>1</td>\n",
              "      <td>0</td>\n",
              "    </tr>\n",
              "    <tr>\n",
              "      <th>4</th>\n",
              "      <td>0</td>\n",
              "      <td>0</td>\n",
              "      <td>1</td>\n",
              "      <td>0</td>\n",
              "      <td>966</td>\n",
              "      <td>0</td>\n",
              "      <td>5</td>\n",
              "      <td>0</td>\n",
              "      <td>1</td>\n",
              "      <td>9</td>\n",
              "    </tr>\n",
              "    <tr>\n",
              "      <th>5</th>\n",
              "      <td>2</td>\n",
              "      <td>1</td>\n",
              "      <td>0</td>\n",
              "      <td>5</td>\n",
              "      <td>0</td>\n",
              "      <td>882</td>\n",
              "      <td>1</td>\n",
              "      <td>1</td>\n",
              "      <td>0</td>\n",
              "      <td>0</td>\n",
              "    </tr>\n",
              "    <tr>\n",
              "      <th>6</th>\n",
              "      <td>5</td>\n",
              "      <td>3</td>\n",
              "      <td>0</td>\n",
              "      <td>0</td>\n",
              "      <td>0</td>\n",
              "      <td>1</td>\n",
              "      <td>946</td>\n",
              "      <td>0</td>\n",
              "      <td>3</td>\n",
              "      <td>0</td>\n",
              "    </tr>\n",
              "    <tr>\n",
              "      <th>7</th>\n",
              "      <td>0</td>\n",
              "      <td>3</td>\n",
              "      <td>5</td>\n",
              "      <td>1</td>\n",
              "      <td>0</td>\n",
              "      <td>0</td>\n",
              "      <td>0</td>\n",
              "      <td>1016</td>\n",
              "      <td>1</td>\n",
              "      <td>2</td>\n",
              "    </tr>\n",
              "    <tr>\n",
              "      <th>8</th>\n",
              "      <td>3</td>\n",
              "      <td>0</td>\n",
              "      <td>4</td>\n",
              "      <td>0</td>\n",
              "      <td>0</td>\n",
              "      <td>1</td>\n",
              "      <td>0</td>\n",
              "      <td>0</td>\n",
              "      <td>964</td>\n",
              "      <td>2</td>\n",
              "    </tr>\n",
              "    <tr>\n",
              "      <th>9</th>\n",
              "      <td>0</td>\n",
              "      <td>2</td>\n",
              "      <td>1</td>\n",
              "      <td>0</td>\n",
              "      <td>3</td>\n",
              "      <td>6</td>\n",
              "      <td>1</td>\n",
              "      <td>2</td>\n",
              "      <td>4</td>\n",
              "      <td>990</td>\n",
              "    </tr>\n",
              "  </tbody>\n",
              "</table>\n",
              "</div>\n",
              "      <button class=\"colab-df-convert\" onclick=\"convertToInteractive('df-67d1121b-306c-4190-9ba3-12ad68c534c9')\"\n",
              "              title=\"Convert this dataframe to an interactive table.\"\n",
              "              style=\"display:none;\">\n",
              "        \n",
              "  <svg xmlns=\"http://www.w3.org/2000/svg\" height=\"24px\"viewBox=\"0 0 24 24\"\n",
              "       width=\"24px\">\n",
              "    <path d=\"M0 0h24v24H0V0z\" fill=\"none\"/>\n",
              "    <path d=\"M18.56 5.44l.94 2.06.94-2.06 2.06-.94-2.06-.94-.94-2.06-.94 2.06-2.06.94zm-11 1L8.5 8.5l.94-2.06 2.06-.94-2.06-.94L8.5 2.5l-.94 2.06-2.06.94zm10 10l.94 2.06.94-2.06 2.06-.94-2.06-.94-.94-2.06-.94 2.06-2.06.94z\"/><path d=\"M17.41 7.96l-1.37-1.37c-.4-.4-.92-.59-1.43-.59-.52 0-1.04.2-1.43.59L10.3 9.45l-7.72 7.72c-.78.78-.78 2.05 0 2.83L4 21.41c.39.39.9.59 1.41.59.51 0 1.02-.2 1.41-.59l7.78-7.78 2.81-2.81c.8-.78.8-2.07 0-2.86zM5.41 20L4 18.59l7.72-7.72 1.47 1.35L5.41 20z\"/>\n",
              "  </svg>\n",
              "      </button>\n",
              "      \n",
              "  <style>\n",
              "    .colab-df-container {\n",
              "      display:flex;\n",
              "      flex-wrap:wrap;\n",
              "      gap: 12px;\n",
              "    }\n",
              "\n",
              "    .colab-df-convert {\n",
              "      background-color: #E8F0FE;\n",
              "      border: none;\n",
              "      border-radius: 50%;\n",
              "      cursor: pointer;\n",
              "      display: none;\n",
              "      fill: #1967D2;\n",
              "      height: 32px;\n",
              "      padding: 0 0 0 0;\n",
              "      width: 32px;\n",
              "    }\n",
              "\n",
              "    .colab-df-convert:hover {\n",
              "      background-color: #E2EBFA;\n",
              "      box-shadow: 0px 1px 2px rgba(60, 64, 67, 0.3), 0px 1px 3px 1px rgba(60, 64, 67, 0.15);\n",
              "      fill: #174EA6;\n",
              "    }\n",
              "\n",
              "    [theme=dark] .colab-df-convert {\n",
              "      background-color: #3B4455;\n",
              "      fill: #D2E3FC;\n",
              "    }\n",
              "\n",
              "    [theme=dark] .colab-df-convert:hover {\n",
              "      background-color: #434B5C;\n",
              "      box-shadow: 0px 1px 3px 1px rgba(0, 0, 0, 0.15);\n",
              "      filter: drop-shadow(0px 1px 2px rgba(0, 0, 0, 0.3));\n",
              "      fill: #FFFFFF;\n",
              "    }\n",
              "  </style>\n",
              "\n",
              "      <script>\n",
              "        const buttonEl =\n",
              "          document.querySelector('#df-67d1121b-306c-4190-9ba3-12ad68c534c9 button.colab-df-convert');\n",
              "        buttonEl.style.display =\n",
              "          google.colab.kernel.accessAllowed ? 'block' : 'none';\n",
              "\n",
              "        async function convertToInteractive(key) {\n",
              "          const element = document.querySelector('#df-67d1121b-306c-4190-9ba3-12ad68c534c9');\n",
              "          const dataTable =\n",
              "            await google.colab.kernel.invokeFunction('convertToInteractive',\n",
              "                                                     [key], {});\n",
              "          if (!dataTable) return;\n",
              "\n",
              "          const docLinkHtml = 'Like what you see? Visit the ' +\n",
              "            '<a target=\"_blank\" href=https://colab.research.google.com/notebooks/data_table.ipynb>data table notebook</a>'\n",
              "            + ' to learn more about interactive tables.';\n",
              "          element.innerHTML = '';\n",
              "          dataTable['output_type'] = 'display_data';\n",
              "          await google.colab.output.renderOutput(dataTable, element);\n",
              "          const docLink = document.createElement('div');\n",
              "          docLink.innerHTML = docLinkHtml;\n",
              "          element.appendChild(docLink);\n",
              "        }\n",
              "      </script>\n",
              "    </div>\n",
              "  </div>\n",
              "  "
            ]
          },
          "metadata": {},
          "execution_count": 24
        }
      ]
    },
    {
      "cell_type": "markdown",
      "source": [
        "# Define inference function"
      ],
      "metadata": {
        "id": "s2t5qCHSL0eX"
      },
      "id": "s2t5qCHSL0eX"
    },
    {
      "cell_type": "code",
      "source": [
        "def inference(path, model, device):\n",
        "    r = requests.get(path)\n",
        "    with BytesIO(r.content) as f:\n",
        "        img = Image.open(f).convert(mode=\"L\")\n",
        "        img = img.resize((28, 28))\n",
        "        x = (255 - np.expand_dims(np.array(img), -1))/255.\n",
        "    with torch.no_grad():\n",
        "        pred = model(torch.unsqueeze(T(x), axis=0).float().to(device))\n",
        "        return F.softmax(pred, dim=-1).cpu().numpy()"
      ],
      "metadata": {
        "id": "A9kDuwyjKLPu"
      },
      "id": "A9kDuwyjKLPu",
      "execution_count": 25,
      "outputs": []
    },
    {
      "cell_type": "code",
      "source": [
        "path = \"https://previews.123rf.com/images/aroas/aroas1704/aroas170400068/79321959-handwritten-sketch-black-number-8-on-white-background.jpg\"\n",
        "r = requests.get(path)\n",
        "with BytesIO(r.content) as f:\n",
        "    img = Image.open(f).convert(mode=\"L\")\n",
        "    img = img.resize((28, 28))\n",
        "x = (255 - np.expand_dims(np.array(img), -1))/255"
      ],
      "metadata": {
        "id": "vttIU5KlML-t"
      },
      "id": "vttIU5KlML-t",
      "execution_count": 26,
      "outputs": []
    },
    {
      "cell_type": "code",
      "source": [
        "plt.imshow(x.squeeze(-1),cmap=\"gray\")"
      ],
      "metadata": {
        "colab": {
          "base_uri": "https://localhost:8080/",
          "height": 282
        },
        "id": "2PZOS_8NMSS_",
        "outputId": "4ee42c09-2434-413e-a061-4e4dfa68045b"
      },
      "id": "2PZOS_8NMSS_",
      "execution_count": 27,
      "outputs": [
        {
          "output_type": "execute_result",
          "data": {
            "text/plain": [
              "<matplotlib.image.AxesImage at 0x7fa69c0695d0>"
            ]
          },
          "metadata": {},
          "execution_count": 27
        },
        {
          "output_type": "display_data",
          "data": {
            "text/plain": [
              "<Figure size 432x288 with 1 Axes>"
            ],
            "image/png": "[encoded data removed]"
          },
          "metadata": {
            "needs_background": "light"
          }
        }
      ]
    },
    {
      "cell_type": "markdown",
      "source": [
        "# Prediction"
      ],
      "metadata": {
        "id": "tBekunR1Mju9"
      },
      "id": "tBekunR1Mju9"
    },
    {
      "cell_type": "code",
      "source": [
        "pred=inference(path,lenet,device=device)\n",
        "pred_idx=np.argmax(pred)\n",
        "print(f\"Predicted: {pred_idx}, Prob: {pred[0][pred_idx]*100} %\")"
      ],
      "metadata": {
        "colab": {
          "base_uri": "https://localhost:8080/"
        },
        "id": "pAsWxNNcMrUJ",
        "outputId": "ff1d35f8-644f-4fda-d488-4900f963b324"
      },
      "id": "pAsWxNNcMrUJ",
      "execution_count": 28,
      "outputs": [
        {
          "output_type": "stream",
          "name": "stdout",
          "text": [
            "Predicted: 8, Prob: 99.97456669807434 %\n"
          ]
        }
      ]
    },
    {
      "cell_type": "code",
      "source": [
        "pred"
      ],
      "metadata": {
        "colab": {
          "base_uri": "https://localhost:8080/"
        },
        "id": "g_k4dDtGNmZ0",
        "outputId": "9ecc5059-f807-4bfd-9d1d-f9b0c191ac0b"
      },
      "id": "g_k4dDtGNmZ0",
      "execution_count": 29,
      "outputs": [
        {
          "output_type": "execute_result",
          "data": {
            "text/plain": [
              "array([[3.3738783e-13, 2.4970735e-13, 4.9840443e-09, 2.5159598e-04,\n",
              "        3.9230048e-13, 1.4538992e-07, 2.6735984e-06, 1.3918841e-13,\n",
              "        9.9974567e-01, 1.8499635e-17]], dtype=float32)"
            ]
          },
          "metadata": {},
          "execution_count": 29
        }
      ]
    }
  ],
  "metadata": {
    "kernelspec": {
      "display_name": "Python 3 (ipykernel)",
      "language": "python",
      "name": "python3"
    },
    "language_info": {
      "codemirror_mode": {
        "name": "ipython",
        "version": 3
      },
      "file_extension": ".py",
      "mimetype": "text/x-python",
      "name": "python",
      "nbconvert_exporter": "python",
      "pygments_lexer": "ipython3",
      "version": "3.10.7"
    },
    "colab": {
      "provenance": [],
      "include_colab_link": true
    },
    "accelerator": "GPU",
    "gpuClass": "standard"
  },
  "nbformat": 4,
  "nbformat_minor": 5
}